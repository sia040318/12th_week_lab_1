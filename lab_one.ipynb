{
 "cells": [
  {
   "cell_type": "markdown",
   "id": "2b4fe46a-ff75-4858-a7cc-d7893086e095",
   "metadata": {},
   "source": [
    "## 문제 설명\n",
    "### 주어진 숫자 중 3개의 수를 더했을 때 소수가 되는 경우의 개수를 구하려고 합니다. 숫자들이 들어있는 배열 nums가 매개변수로 주어질 때, nums에 있는 숫자들 중 서로 다른 3개를 골라 더했을 때 소수가 되는 경우의 개수를 return 하도록 solution 함수를 완성해주세요.\n",
    "\n",
    "## 제한사항\n",
    "* nums에 들어있는 숫자의 개수는 3개 이상 50개 이하입니다.\n",
    "* nums의 각 원소는 1 이상 1,000 이하의 자연수이며, 중복된 숫자가 들어있지 않습니다."
   ]
  },
  {
   "cell_type": "markdown",
   "id": "6d3f8c5e-e0b8-4f48-acf0-d29d6eb7737f",
   "metadata": {},
   "source": [
    "## Solution Explanation "
   ]
  },
  {
   "cell_type": "markdown",
   "id": "502e2b1d-f664-4f7f-9f56-1f03558ad72f",
   "metadata": {},
   "source": [
    "### Importing the combinations function"
   ]
  },
  {
   "cell_type": "code",
   "execution_count": null,
   "id": "85a9744d-5fef-4bea-860e-835df8c19bcc",
   "metadata": {},
   "outputs": [],
   "source": [
    "from itertools import combinations"
   ]
  },
  {
   "cell_type": "markdown",
   "id": "71c3a264-d75a-44b8-bd46-2554d4b4aa56",
   "metadata": {},
   "source": [
    "###  The following function checks if a given number n is prime\n",
    "#### Checking if the number is prime or not (returning True or False). \n",
    "* The function initializes i to 5 and enters a loop that continues as long as the square of i is less than or equal to n. This optimizes the loop to only check up to the square root of n.\n",
    "* At the very end we are adding 6 to i -> This is because the prime numbers greater than 3 can be expressed in the form of 6k ± 1. So, the loop efficiently checks for divisibility by numbers of this form."
   ]
  },
  {
   "cell_type": "code",
   "execution_count": null,
   "id": "fe2e4329-52b7-4fcd-b984-c2567b1a72b3",
   "metadata": {},
   "outputs": [],
   "source": [
    "def is_prime(n):\n",
    "    if n <= 1:\n",
    "        return False\n",
    "    if n <= 3:\n",
    "        return True\n",
    "    if n % 2 == 0 or n % 3 == 0:\n",
    "        return False\n",
    "    i = 5\n",
    "    while (i * i) <= n:\n",
    "        if n % i == 0 or n % (i + 2) == 0:\n",
    "            return False\n",
    "        i += 6\n",
    "    return True"
   ]
  },
  {
   "cell_type": "markdown",
   "id": "8b8f03ee-04f5-4fa8-b44a-b1bbc1c69fa3",
   "metadata": {},
   "source": [
    "### This function essentially counts the number of combinations of three numbers from the input list nums that have a prime sum. It utilizes the is_prime function to check for primality of the sums."
   ]
  },
  {
   "cell_type": "code",
   "execution_count": null,
   "id": "c890f4b5-7398-4181-8703-2b7434850c76",
   "metadata": {},
   "outputs": [],
   "source": [
    "def solution(nums):\n",
    "    count = 0\n",
    "    for comb in combinations(nums, 3):\n",
    "        if is_prime(sum(comb)):\n",
    "            count += 1\n",
    "    return count"
   ]
  },
  {
   "cell_type": "markdown",
   "id": "9d6ebdd1-75e6-4572-baab-3bcc8ab46a45",
   "metadata": {},
   "source": [
    "### Example usage:"
   ]
  },
  {
   "cell_type": "code",
   "execution_count": null,
   "id": "9dda090a-3363-4051-8ed1-033531288381",
   "metadata": {},
   "outputs": [],
   "source": [
    "print(solution([1, 2, 3, 4])) "
   ]
  },
  {
   "cell_type": "markdown",
   "id": "fa8fa9b8-baf0-4dad-9670-02e3a30f0d4e",
   "metadata": {},
   "source": [
    "#### Output: 1"
   ]
  },
  {
   "cell_type": "code",
   "execution_count": null,
   "id": "d93d152f-8f89-45de-9835-c75940fdca2a",
   "metadata": {},
   "outputs": [],
   "source": [
    "print(solution([1, 2, 7, 6, 4])) "
   ]
  },
  {
   "cell_type": "markdown",
   "id": "0f75e3c1-a1d2-4444-b43f-82d29a53d0ae",
   "metadata": {},
   "source": [
    "#### Output: 4"
   ]
  }
 ],
 "metadata": {
  "kernelspec": {
   "display_name": "Python 3 (ipykernel)",
   "language": "python",
   "name": "python3"
  },
  "language_info": {
   "codemirror_mode": {
    "name": "ipython",
    "version": 3
   },
   "file_extension": ".py",
   "mimetype": "text/x-python",
   "name": "python",
   "nbconvert_exporter": "python",
   "pygments_lexer": "ipython3",
   "version": "3.11.7"
  }
 },
 "nbformat": 4,
 "nbformat_minor": 5
}
