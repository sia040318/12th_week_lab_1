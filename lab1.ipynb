{
 "cells": [
  {
   "cell_type": "code",
   "execution_count": null,
   "id": "3bfb740f",
   "metadata": {},
   "outputs": [],
   "source": [
    "from itertools import combinations\n",
    "\n",
    "def is_prime(n):\n",
    "    if n <= 1:\n",
    "        return False\n",
    "    if n <= 3:\n",
    "        return True\n",
    "    if n % 2 == 0 or n % 3 == 0:\n",
    "        return False\n",
    "    i = 5\n",
    "    while (i * i) <= n:\n",
    "        if n % i == 0 or n % (i + 2) == 0:\n",
    "            return False\n",
    "        i += 6\n",
    "    return True\n",
    "\n",
    "def solution(nums):\n",
    "    count = 0\n",
    "    for comb in combinations(nums, 3):\n",
    "        if is_prime(sum(comb)):\n",
    "            count += 1\n",
    "    return count\n",
    "\n",
    "# Example usage:\n",
    "print(solution([1, 2, 3, 4]))  # Output: 1\n",
    "print(solution([1, 2, 7, 6, 4]))  # Output: 4\n"
   ]
  },
  {
   "cell_type": "markdown",
   "id": "e486a40f",
   "metadata": {},
   "source": [
    "### Solutuion Explanation \n",
    "\n",
    "from itertools import combinations \n",
    "\n",
    "#### Checking if the number is prime or not (returning True or False). \n",
    "##### The function initializes i to 5 and enters a loop that continues as long as the square of i is less than or equal to n. This optimizes the loop to only check up to the square root of n.\n",
    "##### At the very end we are adding 6 to i -> This is because the prime numbers greater than 3 can be expressed in the form of 6k ± 1. So, the loop efficiently checks for divisibility by numbers of this form.\n",
    "def is_prime(n):\n",
    "    if n <= 1:\n",
    "        return False\n",
    "    if n <= 3:\n",
    "        return True\n",
    "    if n % 2 == 0 or n % 3 == 0:\n",
    "        return False\n",
    "    i = 5 \n",
    "    while (i * i) <= n:\n",
    "        if n % i == 0 or n % (i + 2) == 0:\n",
    "            return False\n",
    "        i += 6 \n",
    "    return True\n",
    "\n",
    "#### This function essentially counts the number of combinations of three numbers from the input list nums that have a prime sum. It utilizes the is_prime function to check for primality of the sums.\n",
    "def solution(nums):\n",
    "    count = 0\n",
    "    for comb in combinations(nums, 3): \n",
    "        if is_prime(sum(comb)):\n",
    "            count += 1\n",
    "    return count\n",
    "\n",
    "#### Example usage:\n",
    "print(solution([1, 2, 3, 4]))  \n",
    "##### Output: 1\n",
    "print(solution([1, 2, 7, 6, 4]))  #\n",
    "##### Output: 4\n"
   ]
  },
  {
   "cell_type": "code",
   "execution_count": null,
   "id": "df07baa7",
   "metadata": {},
   "outputs": [],
   "source": []
  }
 ],
 "metadata": {
  "kernelspec": {
   "display_name": "Python 3 (ipykernel)",
   "language": "python",
   "name": "python3"
  },
  "language_info": {
   "codemirror_mode": {
    "name": "ipython",
    "version": 3
   },
   "file_extension": ".py",
   "mimetype": "text/x-python",
   "name": "python",
   "nbconvert_exporter": "python",
   "pygments_lexer": "ipython3",
   "version": "3.9.12"
  }
 },
 "nbformat": 4,
 "nbformat_minor": 5
}
